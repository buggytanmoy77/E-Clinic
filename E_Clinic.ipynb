{
  "nbformat": 4,
  "nbformat_minor": 0,
  "metadata": {
    "colab": {
      "provenance": []
    },
    "kernelspec": {
      "name": "python3",
      "display_name": "Python 3"
    },
    "language_info": {
      "name": "python"
    }
  },
  "cells": [
    {
      "cell_type": "code",
      "execution_count": null,
      "metadata": {
        "id": "h8mqJ1LRe_n9",
        "colab": {
          "base_uri": "https://localhost:8080/"
        },
        "outputId": "89127c1a-43c1-4e93-a938-0ebb7659f6a0"
      },
      "outputs": [
        {
          "output_type": "stream",
          "name": "stdout",
          "text": [
            "Requirement already satisfied: numpy in /usr/local/lib/python3.10/dist-packages (1.26.4)\n",
            "Requirement already satisfied: pandas in /usr/local/lib/python3.10/dist-packages (2.2.2)\n",
            "Requirement already satisfied: scikit-learn in /usr/local/lib/python3.10/dist-packages (1.5.2)\n",
            "Requirement already satisfied: matplotlib in /usr/local/lib/python3.10/dist-packages (3.7.1)\n",
            "Requirement already satisfied: seaborn in /usr/local/lib/python3.10/dist-packages (0.13.2)\n",
            "Requirement already satisfied: python-dateutil>=2.8.2 in /usr/local/lib/python3.10/dist-packages (from pandas) (2.8.2)\n",
            "Requirement already satisfied: pytz>=2020.1 in /usr/local/lib/python3.10/dist-packages (from pandas) (2024.2)\n",
            "Requirement already satisfied: tzdata>=2022.7 in /usr/local/lib/python3.10/dist-packages (from pandas) (2024.2)\n",
            "Requirement already satisfied: scipy>=1.6.0 in /usr/local/lib/python3.10/dist-packages (from scikit-learn) (1.13.1)\n",
            "Requirement already satisfied: joblib>=1.2.0 in /usr/local/lib/python3.10/dist-packages (from scikit-learn) (1.4.2)\n",
            "Requirement already satisfied: threadpoolctl>=3.1.0 in /usr/local/lib/python3.10/dist-packages (from scikit-learn) (3.5.0)\n",
            "Requirement already satisfied: contourpy>=1.0.1 in /usr/local/lib/python3.10/dist-packages (from matplotlib) (1.3.0)\n",
            "Requirement already satisfied: cycler>=0.10 in /usr/local/lib/python3.10/dist-packages (from matplotlib) (0.12.1)\n",
            "Requirement already satisfied: fonttools>=4.22.0 in /usr/local/lib/python3.10/dist-packages (from matplotlib) (4.54.1)\n",
            "Requirement already satisfied: kiwisolver>=1.0.1 in /usr/local/lib/python3.10/dist-packages (from matplotlib) (1.4.7)\n",
            "Requirement already satisfied: packaging>=20.0 in /usr/local/lib/python3.10/dist-packages (from matplotlib) (24.1)\n",
            "Requirement already satisfied: pillow>=6.2.0 in /usr/local/lib/python3.10/dist-packages (from matplotlib) (10.4.0)\n",
            "Requirement already satisfied: pyparsing>=2.3.1 in /usr/local/lib/python3.10/dist-packages (from matplotlib) (3.1.4)\n",
            "Requirement already satisfied: six>=1.5 in /usr/local/lib/python3.10/dist-packages (from python-dateutil>=2.8.2->pandas) (1.16.0)\n"
          ]
        }
      ],
      "source": [
        "!pip install numpy pandas scikit-learn matplotlib seaborn"
      ]
    },
    {
      "cell_type": "code",
      "source": [
        "!pip install tensorflow\n",
        "!pip install torch"
      ],
      "metadata": {
        "colab": {
          "base_uri": "https://localhost:8080/"
        },
        "id": "NCXgn_0Gf4jR",
        "outputId": "df9cea57-6af2-4dc1-8fb8-9bc3f261235a"
      },
      "execution_count": null,
      "outputs": [
        {
          "output_type": "stream",
          "name": "stdout",
          "text": [
            "Requirement already satisfied: tensorflow in /usr/local/lib/python3.10/dist-packages (2.17.0)\n",
            "Requirement already satisfied: absl-py>=1.0.0 in /usr/local/lib/python3.10/dist-packages (from tensorflow) (1.4.0)\n",
            "Requirement already satisfied: astunparse>=1.6.0 in /usr/local/lib/python3.10/dist-packages (from tensorflow) (1.6.3)\n",
            "Requirement already satisfied: flatbuffers>=24.3.25 in /usr/local/lib/python3.10/dist-packages (from tensorflow) (24.3.25)\n",
            "Requirement already satisfied: gast!=0.5.0,!=0.5.1,!=0.5.2,>=0.2.1 in /usr/local/lib/python3.10/dist-packages (from tensorflow) (0.6.0)\n",
            "Requirement already satisfied: google-pasta>=0.1.1 in /usr/local/lib/python3.10/dist-packages (from tensorflow) (0.2.0)\n",
            "Requirement already satisfied: h5py>=3.10.0 in /usr/local/lib/python3.10/dist-packages (from tensorflow) (3.11.0)\n",
            "Requirement already satisfied: libclang>=13.0.0 in /usr/local/lib/python3.10/dist-packages (from tensorflow) (18.1.1)\n",
            "Requirement already satisfied: ml-dtypes<0.5.0,>=0.3.1 in /usr/local/lib/python3.10/dist-packages (from tensorflow) (0.4.1)\n",
            "Requirement already satisfied: opt-einsum>=2.3.2 in /usr/local/lib/python3.10/dist-packages (from tensorflow) (3.4.0)\n",
            "Requirement already satisfied: packaging in /usr/local/lib/python3.10/dist-packages (from tensorflow) (24.1)\n",
            "Requirement already satisfied: protobuf!=4.21.0,!=4.21.1,!=4.21.2,!=4.21.3,!=4.21.4,!=4.21.5,<5.0.0dev,>=3.20.3 in /usr/local/lib/python3.10/dist-packages (from tensorflow) (3.20.3)\n",
            "Requirement already satisfied: requests<3,>=2.21.0 in /usr/local/lib/python3.10/dist-packages (from tensorflow) (2.32.3)\n",
            "Requirement already satisfied: setuptools in /usr/local/lib/python3.10/dist-packages (from tensorflow) (71.0.4)\n",
            "Requirement already satisfied: six>=1.12.0 in /usr/local/lib/python3.10/dist-packages (from tensorflow) (1.16.0)\n",
            "Requirement already satisfied: termcolor>=1.1.0 in /usr/local/lib/python3.10/dist-packages (from tensorflow) (2.5.0)\n",
            "Requirement already satisfied: typing-extensions>=3.6.6 in /usr/local/lib/python3.10/dist-packages (from tensorflow) (4.12.2)\n",
            "Requirement already satisfied: wrapt>=1.11.0 in /usr/local/lib/python3.10/dist-packages (from tensorflow) (1.16.0)\n",
            "Requirement already satisfied: grpcio<2.0,>=1.24.3 in /usr/local/lib/python3.10/dist-packages (from tensorflow) (1.64.1)\n",
            "Requirement already satisfied: tensorboard<2.18,>=2.17 in /usr/local/lib/python3.10/dist-packages (from tensorflow) (2.17.0)\n",
            "Requirement already satisfied: keras>=3.2.0 in /usr/local/lib/python3.10/dist-packages (from tensorflow) (3.4.1)\n",
            "Requirement already satisfied: tensorflow-io-gcs-filesystem>=0.23.1 in /usr/local/lib/python3.10/dist-packages (from tensorflow) (0.37.1)\n",
            "Requirement already satisfied: numpy<2.0.0,>=1.23.5 in /usr/local/lib/python3.10/dist-packages (from tensorflow) (1.26.4)\n",
            "Requirement already satisfied: wheel<1.0,>=0.23.0 in /usr/local/lib/python3.10/dist-packages (from astunparse>=1.6.0->tensorflow) (0.44.0)\n",
            "Requirement already satisfied: rich in /usr/local/lib/python3.10/dist-packages (from keras>=3.2.0->tensorflow) (13.9.2)\n",
            "Requirement already satisfied: namex in /usr/local/lib/python3.10/dist-packages (from keras>=3.2.0->tensorflow) (0.0.8)\n",
            "Requirement already satisfied: optree in /usr/local/lib/python3.10/dist-packages (from keras>=3.2.0->tensorflow) (0.13.0)\n",
            "Requirement already satisfied: charset-normalizer<4,>=2 in /usr/local/lib/python3.10/dist-packages (from requests<3,>=2.21.0->tensorflow) (3.3.2)\n",
            "Requirement already satisfied: idna<4,>=2.5 in /usr/local/lib/python3.10/dist-packages (from requests<3,>=2.21.0->tensorflow) (3.10)\n",
            "Requirement already satisfied: urllib3<3,>=1.21.1 in /usr/local/lib/python3.10/dist-packages (from requests<3,>=2.21.0->tensorflow) (2.2.3)\n",
            "Requirement already satisfied: certifi>=2017.4.17 in /usr/local/lib/python3.10/dist-packages (from requests<3,>=2.21.0->tensorflow) (2024.8.30)\n",
            "Requirement already satisfied: markdown>=2.6.8 in /usr/local/lib/python3.10/dist-packages (from tensorboard<2.18,>=2.17->tensorflow) (3.7)\n",
            "Requirement already satisfied: tensorboard-data-server<0.8.0,>=0.7.0 in /usr/local/lib/python3.10/dist-packages (from tensorboard<2.18,>=2.17->tensorflow) (0.7.2)\n",
            "Requirement already satisfied: werkzeug>=1.0.1 in /usr/local/lib/python3.10/dist-packages (from tensorboard<2.18,>=2.17->tensorflow) (3.0.4)\n",
            "Requirement already satisfied: MarkupSafe>=2.1.1 in /usr/local/lib/python3.10/dist-packages (from werkzeug>=1.0.1->tensorboard<2.18,>=2.17->tensorflow) (2.1.5)\n",
            "Requirement already satisfied: markdown-it-py>=2.2.0 in /usr/local/lib/python3.10/dist-packages (from rich->keras>=3.2.0->tensorflow) (3.0.0)\n",
            "Requirement already satisfied: pygments<3.0.0,>=2.13.0 in /usr/local/lib/python3.10/dist-packages (from rich->keras>=3.2.0->tensorflow) (2.18.0)\n",
            "Requirement already satisfied: mdurl~=0.1 in /usr/local/lib/python3.10/dist-packages (from markdown-it-py>=2.2.0->rich->keras>=3.2.0->tensorflow) (0.1.2)\n",
            "Requirement already satisfied: torch in /usr/local/lib/python3.10/dist-packages (2.4.1+cu121)\n",
            "Requirement already satisfied: filelock in /usr/local/lib/python3.10/dist-packages (from torch) (3.16.1)\n",
            "Requirement already satisfied: typing-extensions>=4.8.0 in /usr/local/lib/python3.10/dist-packages (from torch) (4.12.2)\n",
            "Requirement already satisfied: sympy in /usr/local/lib/python3.10/dist-packages (from torch) (1.13.3)\n",
            "Requirement already satisfied: networkx in /usr/local/lib/python3.10/dist-packages (from torch) (3.3)\n",
            "Requirement already satisfied: jinja2 in /usr/local/lib/python3.10/dist-packages (from torch) (3.1.4)\n",
            "Requirement already satisfied: fsspec in /usr/local/lib/python3.10/dist-packages (from torch) (2024.6.1)\n",
            "Requirement already satisfied: MarkupSafe>=2.0 in /usr/local/lib/python3.10/dist-packages (from jinja2->torch) (2.1.5)\n",
            "Requirement already satisfied: mpmath<1.4,>=1.1.0 in /usr/local/lib/python3.10/dist-packages (from sympy->torch) (1.3.0)\n"
          ]
        }
      ]
    },
    {
      "cell_type": "code",
      "source": [
        "import pandas as pd\n",
        "import numpy as np\n",
        "import seaborn as sns\n",
        "import matplotlib.pyplot as plt\n",
        "import tensorflow as tf\n",
        "import torch"
      ],
      "metadata": {
        "id": "uvvctIS4uFPc"
      },
      "execution_count": null,
      "outputs": []
    },
    {
      "cell_type": "code",
      "source": [
        "Input_data = pd.read_csv(\"/content/drive/MyDrive/Final_E-clinic_dataset.csv\")\n",
        "Input_data"
      ],
      "metadata": {
        "colab": {
          "base_uri": "https://localhost:8080/",
          "height": 458
        },
        "id": "bDhaegHM3qaF",
        "outputId": "a75facb9-70c7-4d48-e989-43077bda417d"
      },
      "execution_count": null,
      "outputs": [
        {
          "output_type": "execute_result",
          "data": {
            "text/plain": [
              "        Patient ID  Heart Rate  Respiratory Rate  Body Temperature  \\\n",
              "0                1          60                12         36.861707   \n",
              "1                2          63                18         36.511633   \n",
              "2                3          63                15         37.052049   \n",
              "3                4          99                16         36.654748   \n",
              "4                5          69                16         36.975098   \n",
              "...            ...         ...               ...               ...   \n",
              "200015      200016          87                17         37.058905   \n",
              "200016      200017          76                16         36.463631   \n",
              "200017      200018          81                13         36.665477   \n",
              "200018      200019          83                13         37.019873   \n",
              "200019      200020          69                14         37.012931   \n",
              "\n",
              "        Oxygen Saturation  Systolic Blood Pressure  Diastolic Blood Pressure  \\\n",
              "0               95.702046                      124                        86   \n",
              "1               96.689413                      126                        84   \n",
              "2               98.508265                      131                        78   \n",
              "3               95.011801                      118                        72   \n",
              "4               98.623792                      138                        76   \n",
              "...                   ...                      ...                       ...   \n",
              "200015          95.357470                      120                        84   \n",
              "200016          99.340786                      131                        89   \n",
              "200017          98.120530                      124                        89   \n",
              "200018          95.362426                      125                        86   \n",
              "200019          99.523058                      133                        78   \n",
              "\n",
              "        Age  Gender  Weight (kg)  Height (m)  Derived_BMI  Health Score  \n",
              "0        37  Female    91.541618    1.679351    32.459031     90.952032  \n",
              "1        77    Male    50.704921    1.992546    12.771246     92.561301  \n",
              "2        68  Female    90.316760    1.770228    28.821069     94.023665  \n",
              "3        41  Female    96.006188    1.833629    28.554611     88.459927  \n",
              "4        25  Female    56.020006    1.866419    16.081438     94.544024  \n",
              "...     ...     ...          ...         ...          ...           ...  \n",
              "200015   75    Male    63.496314    1.848268    18.587394     98.943557  \n",
              "200016   76    Male    99.384322    1.988074    25.145064     94.683232  \n",
              "200017   18  Female    71.771830    1.918059    19.508780     97.257285  \n",
              "200018   66  Female    60.220388    1.861655    17.375810     95.453703  \n",
              "200019   67  Female    91.442825    1.853322    26.622442     95.383224  \n",
              "\n",
              "[200020 rows x 13 columns]"
            ],
            "text/html": [
              "\n",
              "  <div id=\"df-31db963e-18bc-4b42-8adc-632df2bcdb40\" class=\"colab-df-container\">\n",
              "    <div>\n",
              "<style scoped>\n",
              "    .dataframe tbody tr th:only-of-type {\n",
              "        vertical-align: middle;\n",
              "    }\n",
              "\n",
              "    .dataframe tbody tr th {\n",
              "        vertical-align: top;\n",
              "    }\n",
              "\n",
              "    .dataframe thead th {\n",
              "        text-align: right;\n",
              "    }\n",
              "</style>\n",
              "<table border=\"1\" class=\"dataframe\">\n",
              "  <thead>\n",
              "    <tr style=\"text-align: right;\">\n",
              "      <th></th>\n",
              "      <th>Patient ID</th>\n",
              "      <th>Heart Rate</th>\n",
              "      <th>Respiratory Rate</th>\n",
              "      <th>Body Temperature</th>\n",
              "      <th>Oxygen Saturation</th>\n",
              "      <th>Systolic Blood Pressure</th>\n",
              "      <th>Diastolic Blood Pressure</th>\n",
              "      <th>Age</th>\n",
              "      <th>Gender</th>\n",
              "      <th>Weight (kg)</th>\n",
              "      <th>Height (m)</th>\n",
              "      <th>Derived_BMI</th>\n",
              "      <th>Health Score</th>\n",
              "    </tr>\n",
              "  </thead>\n",
              "  <tbody>\n",
              "    <tr>\n",
              "      <th>0</th>\n",
              "      <td>1</td>\n",
              "      <td>60</td>\n",
              "      <td>12</td>\n",
              "      <td>36.861707</td>\n",
              "      <td>95.702046</td>\n",
              "      <td>124</td>\n",
              "      <td>86</td>\n",
              "      <td>37</td>\n",
              "      <td>Female</td>\n",
              "      <td>91.541618</td>\n",
              "      <td>1.679351</td>\n",
              "      <td>32.459031</td>\n",
              "      <td>90.952032</td>\n",
              "    </tr>\n",
              "    <tr>\n",
              "      <th>1</th>\n",
              "      <td>2</td>\n",
              "      <td>63</td>\n",
              "      <td>18</td>\n",
              "      <td>36.511633</td>\n",
              "      <td>96.689413</td>\n",
              "      <td>126</td>\n",
              "      <td>84</td>\n",
              "      <td>77</td>\n",
              "      <td>Male</td>\n",
              "      <td>50.704921</td>\n",
              "      <td>1.992546</td>\n",
              "      <td>12.771246</td>\n",
              "      <td>92.561301</td>\n",
              "    </tr>\n",
              "    <tr>\n",
              "      <th>2</th>\n",
              "      <td>3</td>\n",
              "      <td>63</td>\n",
              "      <td>15</td>\n",
              "      <td>37.052049</td>\n",
              "      <td>98.508265</td>\n",
              "      <td>131</td>\n",
              "      <td>78</td>\n",
              "      <td>68</td>\n",
              "      <td>Female</td>\n",
              "      <td>90.316760</td>\n",
              "      <td>1.770228</td>\n",
              "      <td>28.821069</td>\n",
              "      <td>94.023665</td>\n",
              "    </tr>\n",
              "    <tr>\n",
              "      <th>3</th>\n",
              "      <td>4</td>\n",
              "      <td>99</td>\n",
              "      <td>16</td>\n",
              "      <td>36.654748</td>\n",
              "      <td>95.011801</td>\n",
              "      <td>118</td>\n",
              "      <td>72</td>\n",
              "      <td>41</td>\n",
              "      <td>Female</td>\n",
              "      <td>96.006188</td>\n",
              "      <td>1.833629</td>\n",
              "      <td>28.554611</td>\n",
              "      <td>88.459927</td>\n",
              "    </tr>\n",
              "    <tr>\n",
              "      <th>4</th>\n",
              "      <td>5</td>\n",
              "      <td>69</td>\n",
              "      <td>16</td>\n",
              "      <td>36.975098</td>\n",
              "      <td>98.623792</td>\n",
              "      <td>138</td>\n",
              "      <td>76</td>\n",
              "      <td>25</td>\n",
              "      <td>Female</td>\n",
              "      <td>56.020006</td>\n",
              "      <td>1.866419</td>\n",
              "      <td>16.081438</td>\n",
              "      <td>94.544024</td>\n",
              "    </tr>\n",
              "    <tr>\n",
              "      <th>...</th>\n",
              "      <td>...</td>\n",
              "      <td>...</td>\n",
              "      <td>...</td>\n",
              "      <td>...</td>\n",
              "      <td>...</td>\n",
              "      <td>...</td>\n",
              "      <td>...</td>\n",
              "      <td>...</td>\n",
              "      <td>...</td>\n",
              "      <td>...</td>\n",
              "      <td>...</td>\n",
              "      <td>...</td>\n",
              "      <td>...</td>\n",
              "    </tr>\n",
              "    <tr>\n",
              "      <th>200015</th>\n",
              "      <td>200016</td>\n",
              "      <td>87</td>\n",
              "      <td>17</td>\n",
              "      <td>37.058905</td>\n",
              "      <td>95.357470</td>\n",
              "      <td>120</td>\n",
              "      <td>84</td>\n",
              "      <td>75</td>\n",
              "      <td>Male</td>\n",
              "      <td>63.496314</td>\n",
              "      <td>1.848268</td>\n",
              "      <td>18.587394</td>\n",
              "      <td>98.943557</td>\n",
              "    </tr>\n",
              "    <tr>\n",
              "      <th>200016</th>\n",
              "      <td>200017</td>\n",
              "      <td>76</td>\n",
              "      <td>16</td>\n",
              "      <td>36.463631</td>\n",
              "      <td>99.340786</td>\n",
              "      <td>131</td>\n",
              "      <td>89</td>\n",
              "      <td>76</td>\n",
              "      <td>Male</td>\n",
              "      <td>99.384322</td>\n",
              "      <td>1.988074</td>\n",
              "      <td>25.145064</td>\n",
              "      <td>94.683232</td>\n",
              "    </tr>\n",
              "    <tr>\n",
              "      <th>200017</th>\n",
              "      <td>200018</td>\n",
              "      <td>81</td>\n",
              "      <td>13</td>\n",
              "      <td>36.665477</td>\n",
              "      <td>98.120530</td>\n",
              "      <td>124</td>\n",
              "      <td>89</td>\n",
              "      <td>18</td>\n",
              "      <td>Female</td>\n",
              "      <td>71.771830</td>\n",
              "      <td>1.918059</td>\n",
              "      <td>19.508780</td>\n",
              "      <td>97.257285</td>\n",
              "    </tr>\n",
              "    <tr>\n",
              "      <th>200018</th>\n",
              "      <td>200019</td>\n",
              "      <td>83</td>\n",
              "      <td>13</td>\n",
              "      <td>37.019873</td>\n",
              "      <td>95.362426</td>\n",
              "      <td>125</td>\n",
              "      <td>86</td>\n",
              "      <td>66</td>\n",
              "      <td>Female</td>\n",
              "      <td>60.220388</td>\n",
              "      <td>1.861655</td>\n",
              "      <td>17.375810</td>\n",
              "      <td>95.453703</td>\n",
              "    </tr>\n",
              "    <tr>\n",
              "      <th>200019</th>\n",
              "      <td>200020</td>\n",
              "      <td>69</td>\n",
              "      <td>14</td>\n",
              "      <td>37.012931</td>\n",
              "      <td>99.523058</td>\n",
              "      <td>133</td>\n",
              "      <td>78</td>\n",
              "      <td>67</td>\n",
              "      <td>Female</td>\n",
              "      <td>91.442825</td>\n",
              "      <td>1.853322</td>\n",
              "      <td>26.622442</td>\n",
              "      <td>95.383224</td>\n",
              "    </tr>\n",
              "  </tbody>\n",
              "</table>\n",
              "<p>200020 rows × 13 columns</p>\n",
              "</div>\n",
              "    <div class=\"colab-df-buttons\">\n",
              "\n",
              "  <div class=\"colab-df-container\">\n",
              "    <button class=\"colab-df-convert\" onclick=\"convertToInteractive('df-31db963e-18bc-4b42-8adc-632df2bcdb40')\"\n",
              "            title=\"Convert this dataframe to an interactive table.\"\n",
              "            style=\"display:none;\">\n",
              "\n",
              "  <svg xmlns=\"http://www.w3.org/2000/svg\" height=\"24px\" viewBox=\"0 -960 960 960\">\n",
              "    <path d=\"M120-120v-720h720v720H120Zm60-500h600v-160H180v160Zm220 220h160v-160H400v160Zm0 220h160v-160H400v160ZM180-400h160v-160H180v160Zm440 0h160v-160H620v160ZM180-180h160v-160H180v160Zm440 0h160v-160H620v160Z\"/>\n",
              "  </svg>\n",
              "    </button>\n",
              "\n",
              "  <style>\n",
              "    .colab-df-container {\n",
              "      display:flex;\n",
              "      gap: 12px;\n",
              "    }\n",
              "\n",
              "    .colab-df-convert {\n",
              "      background-color: #E8F0FE;\n",
              "      border: none;\n",
              "      border-radius: 50%;\n",
              "      cursor: pointer;\n",
              "      display: none;\n",
              "      fill: #1967D2;\n",
              "      height: 32px;\n",
              "      padding: 0 0 0 0;\n",
              "      width: 32px;\n",
              "    }\n",
              "\n",
              "    .colab-df-convert:hover {\n",
              "      background-color: #E2EBFA;\n",
              "      box-shadow: 0px 1px 2px rgba(60, 64, 67, 0.3), 0px 1px 3px 1px rgba(60, 64, 67, 0.15);\n",
              "      fill: #174EA6;\n",
              "    }\n",
              "\n",
              "    .colab-df-buttons div {\n",
              "      margin-bottom: 4px;\n",
              "    }\n",
              "\n",
              "    [theme=dark] .colab-df-convert {\n",
              "      background-color: #3B4455;\n",
              "      fill: #D2E3FC;\n",
              "    }\n",
              "\n",
              "    [theme=dark] .colab-df-convert:hover {\n",
              "      background-color: #434B5C;\n",
              "      box-shadow: 0px 1px 3px 1px rgba(0, 0, 0, 0.15);\n",
              "      filter: drop-shadow(0px 1px 2px rgba(0, 0, 0, 0.3));\n",
              "      fill: #FFFFFF;\n",
              "    }\n",
              "  </style>\n",
              "\n",
              "    <script>\n",
              "      const buttonEl =\n",
              "        document.querySelector('#df-31db963e-18bc-4b42-8adc-632df2bcdb40 button.colab-df-convert');\n",
              "      buttonEl.style.display =\n",
              "        google.colab.kernel.accessAllowed ? 'block' : 'none';\n",
              "\n",
              "      async function convertToInteractive(key) {\n",
              "        const element = document.querySelector('#df-31db963e-18bc-4b42-8adc-632df2bcdb40');\n",
              "        const dataTable =\n",
              "          await google.colab.kernel.invokeFunction('convertToInteractive',\n",
              "                                                    [key], {});\n",
              "        if (!dataTable) return;\n",
              "\n",
              "        const docLinkHtml = 'Like what you see? Visit the ' +\n",
              "          '<a target=\"_blank\" href=https://colab.research.google.com/notebooks/data_table.ipynb>data table notebook</a>'\n",
              "          + ' to learn more about interactive tables.';\n",
              "        element.innerHTML = '';\n",
              "        dataTable['output_type'] = 'display_data';\n",
              "        await google.colab.output.renderOutput(dataTable, element);\n",
              "        const docLink = document.createElement('div');\n",
              "        docLink.innerHTML = docLinkHtml;\n",
              "        element.appendChild(docLink);\n",
              "      }\n",
              "    </script>\n",
              "  </div>\n",
              "\n",
              "\n",
              "<div id=\"df-88d2a64b-8794-4746-ac69-9d15e2ca2f95\">\n",
              "  <button class=\"colab-df-quickchart\" onclick=\"quickchart('df-88d2a64b-8794-4746-ac69-9d15e2ca2f95')\"\n",
              "            title=\"Suggest charts\"\n",
              "            style=\"display:none;\">\n",
              "\n",
              "<svg xmlns=\"http://www.w3.org/2000/svg\" height=\"24px\"viewBox=\"0 0 24 24\"\n",
              "     width=\"24px\">\n",
              "    <g>\n",
              "        <path d=\"M19 3H5c-1.1 0-2 .9-2 2v14c0 1.1.9 2 2 2h14c1.1 0 2-.9 2-2V5c0-1.1-.9-2-2-2zM9 17H7v-7h2v7zm4 0h-2V7h2v10zm4 0h-2v-4h2v4z\"/>\n",
              "    </g>\n",
              "</svg>\n",
              "  </button>\n",
              "\n",
              "<style>\n",
              "  .colab-df-quickchart {\n",
              "      --bg-color: #E8F0FE;\n",
              "      --fill-color: #1967D2;\n",
              "      --hover-bg-color: #E2EBFA;\n",
              "      --hover-fill-color: #174EA6;\n",
              "      --disabled-fill-color: #AAA;\n",
              "      --disabled-bg-color: #DDD;\n",
              "  }\n",
              "\n",
              "  [theme=dark] .colab-df-quickchart {\n",
              "      --bg-color: #3B4455;\n",
              "      --fill-color: #D2E3FC;\n",
              "      --hover-bg-color: #434B5C;\n",
              "      --hover-fill-color: #FFFFFF;\n",
              "      --disabled-bg-color: #3B4455;\n",
              "      --disabled-fill-color: #666;\n",
              "  }\n",
              "\n",
              "  .colab-df-quickchart {\n",
              "    background-color: var(--bg-color);\n",
              "    border: none;\n",
              "    border-radius: 50%;\n",
              "    cursor: pointer;\n",
              "    display: none;\n",
              "    fill: var(--fill-color);\n",
              "    height: 32px;\n",
              "    padding: 0;\n",
              "    width: 32px;\n",
              "  }\n",
              "\n",
              "  .colab-df-quickchart:hover {\n",
              "    background-color: var(--hover-bg-color);\n",
              "    box-shadow: 0 1px 2px rgba(60, 64, 67, 0.3), 0 1px 3px 1px rgba(60, 64, 67, 0.15);\n",
              "    fill: var(--button-hover-fill-color);\n",
              "  }\n",
              "\n",
              "  .colab-df-quickchart-complete:disabled,\n",
              "  .colab-df-quickchart-complete:disabled:hover {\n",
              "    background-color: var(--disabled-bg-color);\n",
              "    fill: var(--disabled-fill-color);\n",
              "    box-shadow: none;\n",
              "  }\n",
              "\n",
              "  .colab-df-spinner {\n",
              "    border: 2px solid var(--fill-color);\n",
              "    border-color: transparent;\n",
              "    border-bottom-color: var(--fill-color);\n",
              "    animation:\n",
              "      spin 1s steps(1) infinite;\n",
              "  }\n",
              "\n",
              "  @keyframes spin {\n",
              "    0% {\n",
              "      border-color: transparent;\n",
              "      border-bottom-color: var(--fill-color);\n",
              "      border-left-color: var(--fill-color);\n",
              "    }\n",
              "    20% {\n",
              "      border-color: transparent;\n",
              "      border-left-color: var(--fill-color);\n",
              "      border-top-color: var(--fill-color);\n",
              "    }\n",
              "    30% {\n",
              "      border-color: transparent;\n",
              "      border-left-color: var(--fill-color);\n",
              "      border-top-color: var(--fill-color);\n",
              "      border-right-color: var(--fill-color);\n",
              "    }\n",
              "    40% {\n",
              "      border-color: transparent;\n",
              "      border-right-color: var(--fill-color);\n",
              "      border-top-color: var(--fill-color);\n",
              "    }\n",
              "    60% {\n",
              "      border-color: transparent;\n",
              "      border-right-color: var(--fill-color);\n",
              "    }\n",
              "    80% {\n",
              "      border-color: transparent;\n",
              "      border-right-color: var(--fill-color);\n",
              "      border-bottom-color: var(--fill-color);\n",
              "    }\n",
              "    90% {\n",
              "      border-color: transparent;\n",
              "      border-bottom-color: var(--fill-color);\n",
              "    }\n",
              "  }\n",
              "</style>\n",
              "\n",
              "  <script>\n",
              "    async function quickchart(key) {\n",
              "      const quickchartButtonEl =\n",
              "        document.querySelector('#' + key + ' button');\n",
              "      quickchartButtonEl.disabled = true;  // To prevent multiple clicks.\n",
              "      quickchartButtonEl.classList.add('colab-df-spinner');\n",
              "      try {\n",
              "        const charts = await google.colab.kernel.invokeFunction(\n",
              "            'suggestCharts', [key], {});\n",
              "      } catch (error) {\n",
              "        console.error('Error during call to suggestCharts:', error);\n",
              "      }\n",
              "      quickchartButtonEl.classList.remove('colab-df-spinner');\n",
              "      quickchartButtonEl.classList.add('colab-df-quickchart-complete');\n",
              "    }\n",
              "    (() => {\n",
              "      let quickchartButtonEl =\n",
              "        document.querySelector('#df-88d2a64b-8794-4746-ac69-9d15e2ca2f95 button');\n",
              "      quickchartButtonEl.style.display =\n",
              "        google.colab.kernel.accessAllowed ? 'block' : 'none';\n",
              "    })();\n",
              "  </script>\n",
              "</div>\n",
              "\n",
              "  <div id=\"id_ab210a4a-0d01-4bb8-9f02-3e88650aa793\">\n",
              "    <style>\n",
              "      .colab-df-generate {\n",
              "        background-color: #E8F0FE;\n",
              "        border: none;\n",
              "        border-radius: 50%;\n",
              "        cursor: pointer;\n",
              "        display: none;\n",
              "        fill: #1967D2;\n",
              "        height: 32px;\n",
              "        padding: 0 0 0 0;\n",
              "        width: 32px;\n",
              "      }\n",
              "\n",
              "      .colab-df-generate:hover {\n",
              "        background-color: #E2EBFA;\n",
              "        box-shadow: 0px 1px 2px rgba(60, 64, 67, 0.3), 0px 1px 3px 1px rgba(60, 64, 67, 0.15);\n",
              "        fill: #174EA6;\n",
              "      }\n",
              "\n",
              "      [theme=dark] .colab-df-generate {\n",
              "        background-color: #3B4455;\n",
              "        fill: #D2E3FC;\n",
              "      }\n",
              "\n",
              "      [theme=dark] .colab-df-generate:hover {\n",
              "        background-color: #434B5C;\n",
              "        box-shadow: 0px 1px 3px 1px rgba(0, 0, 0, 0.15);\n",
              "        filter: drop-shadow(0px 1px 2px rgba(0, 0, 0, 0.3));\n",
              "        fill: #FFFFFF;\n",
              "      }\n",
              "    </style>\n",
              "    <button class=\"colab-df-generate\" onclick=\"generateWithVariable('Input_data')\"\n",
              "            title=\"Generate code using this dataframe.\"\n",
              "            style=\"display:none;\">\n",
              "\n",
              "  <svg xmlns=\"http://www.w3.org/2000/svg\" height=\"24px\"viewBox=\"0 0 24 24\"\n",
              "       width=\"24px\">\n",
              "    <path d=\"M7,19H8.4L18.45,9,17,7.55,7,17.6ZM5,21V16.75L18.45,3.32a2,2,0,0,1,2.83,0l1.4,1.43a1.91,1.91,0,0,1,.58,1.4,1.91,1.91,0,0,1-.58,1.4L9.25,21ZM18.45,9,17,7.55Zm-12,3A5.31,5.31,0,0,0,4.9,8.1,5.31,5.31,0,0,0,1,6.5,5.31,5.31,0,0,0,4.9,4.9,5.31,5.31,0,0,0,6.5,1,5.31,5.31,0,0,0,8.1,4.9,5.31,5.31,0,0,0,12,6.5,5.46,5.46,0,0,0,6.5,12Z\"/>\n",
              "  </svg>\n",
              "    </button>\n",
              "    <script>\n",
              "      (() => {\n",
              "      const buttonEl =\n",
              "        document.querySelector('#id_ab210a4a-0d01-4bb8-9f02-3e88650aa793 button.colab-df-generate');\n",
              "      buttonEl.style.display =\n",
              "        google.colab.kernel.accessAllowed ? 'block' : 'none';\n",
              "\n",
              "      buttonEl.onclick = () => {\n",
              "        google.colab.notebook.generateWithVariable('Input_data');\n",
              "      }\n",
              "      })();\n",
              "    </script>\n",
              "  </div>\n",
              "\n",
              "    </div>\n",
              "  </div>\n"
            ],
            "application/vnd.google.colaboratory.intrinsic+json": {
              "type": "dataframe",
              "variable_name": "Input_data"
            }
          },
          "metadata": {},
          "execution_count": 2
        }
      ]
    },
    {
      "cell_type": "markdown",
      "source": [
        "## Manual calculation of Health Score"
      ],
      "metadata": {
        "id": "CLqgRUdKOSkT"
      }
    },
    {
      "cell_type": "markdown",
      "source": [
        "\n",
        "\n",
        "```\n",
        "# This is formatted as code\n",
        "```\n",
        "\n",
        "\n",
        "\n",
        "```\n",
        "\n",
        "ideal_sbp = 120\n",
        "ideal_dbp = 80\n",
        "ideal_bmi = 21.7\n",
        "ideal_sp02 = 95\n",
        "ideal_heart_rate = 75\n",
        "ideal_respiratory_rate = 16\n",
        "ideal_body_temp = 36.75\n",
        "\n",
        "total_ideal_weights = 1.0\n",
        "\n",
        "def calculate_health_score(row):\n",
        "    systolic_bp = row['Systolic Blood Pressure']\n",
        "    diastolic_bp = row['Diastolic Blood Pressure']\n",
        "    bmi = row['Derived_BMI']\n",
        "    sp02 = row['Oxygen Saturation']\n",
        "    heart_rate = row['Heart Rate']\n",
        "    respiratory_rate = row['Respiratory Rate']\n",
        "    body_temp = row['Body Temperature']\n",
        "\n",
        "\n",
        "\n",
        "    if 110 <= systolic_bp <= 140:\n",
        "        norm_deviation_sbp = 0\n",
        "    else:\n",
        "        norm_deviation_sbp = abs(systolic_bp - ideal_sbp) / ideal_sbp\n",
        "    if 70 <= systolic_bp <= 90:\n",
        "        norm_deviation_dbp = 0\n",
        "    else:\n",
        "        norm_deviation_dbp = abs(diastolic_bp - ideal_dbp) / ideal_dbp\n",
        "    if 18.5 <= bmi <= 24.9:\n",
        "        norm_deviation_bmi = 0\n",
        "    else:\n",
        "        norm_deviation_bmi = abs(bmi - ideal_bmi) / ideal_bmi\n",
        "    if 36 <= body_temp <= 37.5:\n",
        "        norm_deviation_body_temp = 0\n",
        "    else:\n",
        "        norm_deviation_body_temp = abs(body_temp - ideal_body_temp) / ideal_body_temp\n",
        "\n",
        "    if 60 <= heart_rate <= 90:\n",
        "        norm_deviation_heart_rate = 0\n",
        "    else:\n",
        "        norm_deviation_heart_rate = abs(heart_rate - ideal_heart_rate) / ideal_heart_rate\n",
        "\n",
        "    if 12 <= respiratory_rate <= 20:\n",
        "        norm_deviation_respiratory_rate = 0\n",
        "    else:\n",
        "        norm_deviation_respiratory_rate = abs(respiratory_rate - ideal_respiratory_rate) / ideal_respiratory_rate\n",
        "\n",
        "    norm_deviation_sp02 = abs(sp02 - ideal_sp02) / ideal_sp02\n",
        "\n",
        "    feature_score_sbp = max(0, 1 - norm_deviation_sbp)\n",
        "    feature_score_dbp = max(0, 1 - norm_deviation_dbp)\n",
        "    feature_score_bmi = max(0, 1 - norm_deviation_bmi)\n",
        "    feature_score_sp02 = max(0, 1 - norm_deviation_sp02)\n",
        "    feature_score_heart_rate = max(0, 1 - norm_deviation_heart_rate)\n",
        "    feature_score_respiratory_rate = max(0, 1 - norm_deviation_respiratory_rate)\n",
        "    feature_score_body_temp = max(0, 1 - norm_deviation_body_temp)\n",
        "\n",
        "    total_weighted_score = (\n",
        "        feature_score_sbp * 0.20 +\n",
        "        feature_score_dbp * 0.20 +\n",
        "        feature_score_bmi * 0.15 +\n",
        "        feature_score_sp02 * 0.15 +\n",
        "        feature_score_heart_rate * 0.15 +\n",
        "        feature_score_respiratory_rate * 0.10 +\n",
        "        feature_score_body_temp * 0.05\n",
        "    )\n",
        "\n",
        "    health_score = (total_weighted_score / total_ideal_weights) * 100\n",
        "\n",
        "    return health_score\n",
        "\n",
        "Input_data['Health Score'] = Input_data.apply(calculate_health_score, axis=1)\n",
        "\n",
        "Input_data.to_csv('updated_E-clinic_with_health_scores.csv', index=False)\n",
        "\n",
        "print(Input_data[['Health Score']])\n"
      ],
      "metadata": {
        "id": "eopl2jgtOi9u"
      }
    },
    {
      "cell_type": "markdown",
      "source": [
        "## Splitting the Data"
      ],
      "metadata": {
        "id": "e7EUnpFjP93Y"
      }
    },
    {
      "cell_type": "code",
      "source": [
        "from sklearn.model_selection import train_test_split\n",
        "\n",
        "train_data, test_data = train_test_split(Input_data, test_size=0.2, random_state=42)\n",
        "train_data, val_data = train_test_split(train_data, test_size=0.2, random_state=42)\n",
        "\n",
        "print(f\"Training Set: {train_data.shape}\")\n",
        "print(f\"Validation Set: {val_data.shape}\")\n",
        "print(f\"Test Set: {test_data.shape}\")\n"
      ],
      "metadata": {
        "colab": {
          "base_uri": "https://localhost:8080/"
        },
        "id": "ora3cR5kAUsL",
        "outputId": "638240d5-389b-4ee4-fd7d-07da26d7ed96"
      },
      "execution_count": null,
      "outputs": [
        {
          "output_type": "stream",
          "name": "stdout",
          "text": [
            "Training Set: (128012, 13)\n",
            "Validation Set: (32004, 13)\n",
            "Test Set: (40004, 13)\n"
          ]
        }
      ]
    },
    {
      "cell_type": "code",
      "source": [
        "from sklearn.preprocessing import StandardScaler\n",
        "\n",
        "features = ['Heart Rate', 'Respiratory Rate', 'Body Temperature', 'Oxygen Saturation',\n",
        "            'Systolic Blood Pressure', 'Diastolic Blood Pressure', 'Age', 'Weight (kg)', 'Height (m)']\n",
        "\n",
        "scaler = StandardScaler()\n",
        "\n",
        "train_data[features] = scaler.fit_transform(train_data[features])\n",
        "val_data[features] = scaler.transform(val_data[features])\n",
        "test_data[features] = scaler.transform(test_data[features])\n"
      ],
      "metadata": {
        "id": "Ek0WunAFA5-J"
      },
      "execution_count": null,
      "outputs": []
    },
    {
      "cell_type": "markdown",
      "source": [
        "# Model Evaluation"
      ],
      "metadata": {
        "id": "TsQ1Z1MqFEGm"
      }
    },
    {
      "cell_type": "markdown",
      "source": [
        "## Neural Network\n",
        "\n"
      ],
      "metadata": {
        "id": "H0oSDww7QIJ3"
      }
    },
    {
      "cell_type": "code",
      "source": [
        "X_train = train_data[features]\n",
        "y_train = train_data['Health Score']\n",
        "\n",
        "X_val = val_data[features]\n",
        "y_val = val_data['Health Score']\n",
        "\n",
        "from keras.models import Sequential\n",
        "from keras.layers import Dense\n",
        "\n",
        "NN_model = Sequential()\n",
        "NN_model.add(Dense(64, input_dim=len(features), activation='relu'))\n",
        "NN_model.add(Dense(32, activation='relu'))\n",
        "NN_model.add(Dense(16, activation='relu'))\n",
        "NN_model.add(Dense(1, activation='linear'))\n",
        "\n",
        "NN_model.compile(optimizer='adam', loss='mean_squared_error')\n",
        "\n",
        "NN_model.fit(X_train, y_train, validation_data=(X_val, y_val), epochs=50, batch_size=256)\n"
      ],
      "metadata": {
        "colab": {
          "base_uri": "https://localhost:8080/"
        },
        "id": "R-kcr8-mPO72",
        "outputId": "70caa571-8fc1-4499-d8fa-ef344d486189"
      },
      "execution_count": null,
      "outputs": [
        {
          "output_type": "stream",
          "name": "stderr",
          "text": [
            "/usr/local/lib/python3.10/dist-packages/keras/src/layers/core/dense.py:87: UserWarning: Do not pass an `input_shape`/`input_dim` argument to a layer. When using Sequential models, prefer using an `Input(shape)` object as the first layer in the model instead.\n",
            "  super().__init__(activity_regularizer=activity_regularizer, **kwargs)\n"
          ]
        },
        {
          "output_type": "stream",
          "name": "stdout",
          "text": [
            "Epoch 1/50\n",
            "\u001b[1m501/501\u001b[0m \u001b[32m━━━━━━━━━━━━━━━━━━━━\u001b[0m\u001b[37m\u001b[0m \u001b[1m8s\u001b[0m 9ms/step - loss: 3741.7139 - val_loss: 123.6165\n",
            "Epoch 2/50\n",
            "\u001b[1m501/501\u001b[0m \u001b[32m━━━━━━━━━━━━━━━━━━━━\u001b[0m\u001b[37m\u001b[0m \u001b[1m2s\u001b[0m 3ms/step - loss: 109.2628 - val_loss: 70.3638\n",
            "Epoch 3/50\n",
            "\u001b[1m501/501\u001b[0m \u001b[32m━━━━━━━━━━━━━━━━━━━━\u001b[0m\u001b[37m\u001b[0m \u001b[1m1s\u001b[0m 2ms/step - loss: 53.5907 - val_loss: 14.8541\n",
            "Epoch 4/50\n",
            "\u001b[1m501/501\u001b[0m \u001b[32m━━━━━━━━━━━━━━━━━━━━\u001b[0m\u001b[37m\u001b[0m \u001b[1m1s\u001b[0m 2ms/step - loss: 10.2470 - val_loss: 3.0235\n",
            "Epoch 5/50\n",
            "\u001b[1m501/501\u001b[0m \u001b[32m━━━━━━━━━━━━━━━━━━━━\u001b[0m\u001b[37m\u001b[0m \u001b[1m1s\u001b[0m 2ms/step - loss: 2.4014 - val_loss: 1.5009\n",
            "Epoch 6/50\n",
            "\u001b[1m501/501\u001b[0m \u001b[32m━━━━━━━━━━━━━━━━━━━━\u001b[0m\u001b[37m\u001b[0m \u001b[1m1s\u001b[0m 2ms/step - loss: 1.3385 - val_loss: 1.0444\n",
            "Epoch 7/50\n",
            "\u001b[1m501/501\u001b[0m \u001b[32m━━━━━━━━━━━━━━━━━━━━\u001b[0m\u001b[37m\u001b[0m \u001b[1m1s\u001b[0m 2ms/step - loss: 0.9550 - val_loss: 0.9847\n",
            "Epoch 8/50\n",
            "\u001b[1m501/501\u001b[0m \u001b[32m━━━━━━━━━━━━━━━━━━━━\u001b[0m\u001b[37m\u001b[0m \u001b[1m1s\u001b[0m 2ms/step - loss: 0.7942 - val_loss: 0.7070\n",
            "Epoch 9/50\n",
            "\u001b[1m501/501\u001b[0m \u001b[32m━━━━━━━━━━━━━━━━━━━━\u001b[0m\u001b[37m\u001b[0m \u001b[1m1s\u001b[0m 2ms/step - loss: 0.6607 - val_loss: 0.6146\n",
            "Epoch 10/50\n",
            "\u001b[1m501/501\u001b[0m \u001b[32m━━━━━━━━━━━━━━━━━━━━\u001b[0m\u001b[37m\u001b[0m \u001b[1m2s\u001b[0m 3ms/step - loss: 0.5828 - val_loss: 0.5429\n",
            "Epoch 11/50\n",
            "\u001b[1m501/501\u001b[0m \u001b[32m━━━━━━━━━━━━━━━━━━━━\u001b[0m\u001b[37m\u001b[0m \u001b[1m2s\u001b[0m 3ms/step - loss: 0.5331 - val_loss: 0.5371\n",
            "Epoch 12/50\n",
            "\u001b[1m501/501\u001b[0m \u001b[32m━━━━━━━━━━━━━━━━━━━━\u001b[0m\u001b[37m\u001b[0m \u001b[1m2s\u001b[0m 2ms/step - loss: 0.5160 - val_loss: 0.5140\n",
            "Epoch 13/50\n",
            "\u001b[1m501/501\u001b[0m \u001b[32m━━━━━━━━━━━━━━━━━━━━\u001b[0m\u001b[37m\u001b[0m \u001b[1m1s\u001b[0m 2ms/step - loss: 0.4851 - val_loss: 0.6216\n",
            "Epoch 14/50\n",
            "\u001b[1m501/501\u001b[0m \u001b[32m━━━━━━━━━━━━━━━━━━━━\u001b[0m\u001b[37m\u001b[0m \u001b[1m1s\u001b[0m 2ms/step - loss: 0.4940 - val_loss: 0.5554\n",
            "Epoch 15/50\n",
            "\u001b[1m501/501\u001b[0m \u001b[32m━━━━━━━━━━━━━━━━━━━━\u001b[0m\u001b[37m\u001b[0m \u001b[1m1s\u001b[0m 2ms/step - loss: 0.4897 - val_loss: 0.5170\n",
            "Epoch 16/50\n",
            "\u001b[1m501/501\u001b[0m \u001b[32m━━━━━━━━━━━━━━━━━━━━\u001b[0m\u001b[37m\u001b[0m \u001b[1m1s\u001b[0m 2ms/step - loss: 0.4637 - val_loss: 0.4619\n",
            "Epoch 17/50\n",
            "\u001b[1m501/501\u001b[0m \u001b[32m━━━━━━━━━━━━━━━━━━━━\u001b[0m\u001b[37m\u001b[0m \u001b[1m1s\u001b[0m 2ms/step - loss: 0.4613 - val_loss: 0.4945\n",
            "Epoch 18/50\n",
            "\u001b[1m501/501\u001b[0m \u001b[32m━━━━━━━━━━━━━━━━━━━━\u001b[0m\u001b[37m\u001b[0m \u001b[1m1s\u001b[0m 2ms/step - loss: 0.4379 - val_loss: 0.4242\n",
            "Epoch 19/50\n",
            "\u001b[1m501/501\u001b[0m \u001b[32m━━━━━━━━━━━━━━━━━━━━\u001b[0m\u001b[37m\u001b[0m \u001b[1m1s\u001b[0m 2ms/step - loss: 0.4218 - val_loss: 0.4298\n",
            "Epoch 20/50\n",
            "\u001b[1m501/501\u001b[0m \u001b[32m━━━━━━━━━━━━━━━━━━━━\u001b[0m\u001b[37m\u001b[0m \u001b[1m2s\u001b[0m 3ms/step - loss: 0.4004 - val_loss: 0.4323\n",
            "Epoch 21/50\n",
            "\u001b[1m501/501\u001b[0m \u001b[32m━━━━━━━━━━━━━━━━━━━━\u001b[0m\u001b[37m\u001b[0m \u001b[1m2s\u001b[0m 4ms/step - loss: 0.3859 - val_loss: 0.5086\n",
            "Epoch 22/50\n",
            "\u001b[1m501/501\u001b[0m \u001b[32m━━━━━━━━━━━━━━━━━━━━\u001b[0m\u001b[37m\u001b[0m \u001b[1m2s\u001b[0m 2ms/step - loss: 0.3889 - val_loss: 0.3779\n",
            "Epoch 23/50\n",
            "\u001b[1m501/501\u001b[0m \u001b[32m━━━━━━━━━━━━━━━━━━━━\u001b[0m\u001b[37m\u001b[0m \u001b[1m2s\u001b[0m 3ms/step - loss: 0.3540 - val_loss: 0.4252\n",
            "Epoch 24/50\n",
            "\u001b[1m501/501\u001b[0m \u001b[32m━━━━━━━━━━━━━━━━━━━━\u001b[0m\u001b[37m\u001b[0m \u001b[1m3s\u001b[0m 4ms/step - loss: 0.3544 - val_loss: 0.5612\n",
            "Epoch 25/50\n",
            "\u001b[1m501/501\u001b[0m \u001b[32m━━━━━━━━━━━━━━━━━━━━\u001b[0m\u001b[37m\u001b[0m \u001b[1m1s\u001b[0m 2ms/step - loss: 0.3498 - val_loss: 0.4996\n",
            "Epoch 26/50\n",
            "\u001b[1m501/501\u001b[0m \u001b[32m━━━━━━━━━━━━━━━━━━━━\u001b[0m\u001b[37m\u001b[0m \u001b[1m1s\u001b[0m 2ms/step - loss: 0.3343 - val_loss: 0.4282\n",
            "Epoch 27/50\n",
            "\u001b[1m501/501\u001b[0m \u001b[32m━━━━━━━━━━━━━━━━━━━━\u001b[0m\u001b[37m\u001b[0m \u001b[1m1s\u001b[0m 2ms/step - loss: 0.3201 - val_loss: 0.4066\n",
            "Epoch 28/50\n",
            "\u001b[1m501/501\u001b[0m \u001b[32m━━━━━━━━━━━━━━━━━━━━\u001b[0m\u001b[37m\u001b[0m \u001b[1m2s\u001b[0m 3ms/step - loss: 0.3248 - val_loss: 0.4780\n",
            "Epoch 29/50\n",
            "\u001b[1m501/501\u001b[0m \u001b[32m━━━━━━━━━━━━━━━━━━━━\u001b[0m\u001b[37m\u001b[0m \u001b[1m3s\u001b[0m 4ms/step - loss: 0.3124 - val_loss: 0.3228\n",
            "Epoch 30/50\n",
            "\u001b[1m501/501\u001b[0m \u001b[32m━━━━━━━━━━━━━━━━━━━━\u001b[0m\u001b[37m\u001b[0m \u001b[1m2s\u001b[0m 2ms/step - loss: 0.3007 - val_loss: 0.5755\n",
            "Epoch 31/50\n",
            "\u001b[1m501/501\u001b[0m \u001b[32m━━━━━━━━━━━━━━━━━━━━\u001b[0m\u001b[37m\u001b[0m \u001b[1m1s\u001b[0m 2ms/step - loss: 0.3109 - val_loss: 0.3402\n",
            "Epoch 32/50\n",
            "\u001b[1m501/501\u001b[0m \u001b[32m━━━━━━━━━━━━━━━━━━━━\u001b[0m\u001b[37m\u001b[0m \u001b[1m1s\u001b[0m 2ms/step - loss: 0.3036 - val_loss: 0.2843\n",
            "Epoch 33/50\n",
            "\u001b[1m501/501\u001b[0m \u001b[32m━━━━━━━━━━━━━━━━━━━━\u001b[0m\u001b[37m\u001b[0m \u001b[1m1s\u001b[0m 2ms/step - loss: 0.2935 - val_loss: 0.3879\n",
            "Epoch 34/50\n",
            "\u001b[1m501/501\u001b[0m \u001b[32m━━━━━━━━━━━━━━━━━━━━\u001b[0m\u001b[37m\u001b[0m \u001b[1m1s\u001b[0m 2ms/step - loss: 0.2956 - val_loss: 0.3252\n",
            "Epoch 35/50\n",
            "\u001b[1m501/501\u001b[0m \u001b[32m━━━━━━━━━━━━━━━━━━━━\u001b[0m\u001b[37m\u001b[0m \u001b[1m1s\u001b[0m 2ms/step - loss: 0.2877 - val_loss: 0.4427\n",
            "Epoch 36/50\n",
            "\u001b[1m501/501\u001b[0m \u001b[32m━━━━━━━━━━━━━━━━━━━━\u001b[0m\u001b[37m\u001b[0m \u001b[1m1s\u001b[0m 2ms/step - loss: 0.3042 - val_loss: 0.3284\n",
            "Epoch 37/50\n",
            "\u001b[1m501/501\u001b[0m \u001b[32m━━━━━━━━━━━━━━━━━━━━\u001b[0m\u001b[37m\u001b[0m \u001b[1m1s\u001b[0m 2ms/step - loss: 0.2927 - val_loss: 0.3429\n",
            "Epoch 38/50\n",
            "\u001b[1m501/501\u001b[0m \u001b[32m━━━━━━━━━━━━━━━━━━━━\u001b[0m\u001b[37m\u001b[0m \u001b[1m2s\u001b[0m 3ms/step - loss: 0.2928 - val_loss: 0.3204\n",
            "Epoch 39/50\n",
            "\u001b[1m501/501\u001b[0m \u001b[32m━━━━━━━━━━━━━━━━━━━━\u001b[0m\u001b[37m\u001b[0m \u001b[1m2s\u001b[0m 4ms/step - loss: 0.2897 - val_loss: 0.3215\n",
            "Epoch 40/50\n",
            "\u001b[1m501/501\u001b[0m \u001b[32m━━━━━━━━━━━━━━━━━━━━\u001b[0m\u001b[37m\u001b[0m \u001b[1m2s\u001b[0m 2ms/step - loss: 0.2834 - val_loss: 0.3052\n",
            "Epoch 41/50\n",
            "\u001b[1m501/501\u001b[0m \u001b[32m━━━━━━━━━━━━━━━━━━━━\u001b[0m\u001b[37m\u001b[0m \u001b[1m1s\u001b[0m 2ms/step - loss: 0.2905 - val_loss: 0.6220\n",
            "Epoch 42/50\n",
            "\u001b[1m501/501\u001b[0m \u001b[32m━━━━━━━━━━━━━━━━━━━━\u001b[0m\u001b[37m\u001b[0m \u001b[1m1s\u001b[0m 2ms/step - loss: 0.3061 - val_loss: 0.3456\n",
            "Epoch 43/50\n",
            "\u001b[1m501/501\u001b[0m \u001b[32m━━━━━━━━━━━━━━━━━━━━\u001b[0m\u001b[37m\u001b[0m \u001b[1m1s\u001b[0m 2ms/step - loss: 0.2872 - val_loss: 0.3431\n",
            "Epoch 44/50\n",
            "\u001b[1m501/501\u001b[0m \u001b[32m━━━━━━━━━━━━━━━━━━━━\u001b[0m\u001b[37m\u001b[0m \u001b[1m1s\u001b[0m 2ms/step - loss: 0.2827 - val_loss: 0.3339\n",
            "Epoch 45/50\n",
            "\u001b[1m501/501\u001b[0m \u001b[32m━━━━━━━━━━━━━━━━━━━━\u001b[0m\u001b[37m\u001b[0m \u001b[1m1s\u001b[0m 2ms/step - loss: 0.2702 - val_loss: 0.3130\n",
            "Epoch 46/50\n",
            "\u001b[1m501/501\u001b[0m \u001b[32m━━━━━━━━━━━━━━━━━━━━\u001b[0m\u001b[37m\u001b[0m \u001b[1m1s\u001b[0m 2ms/step - loss: 0.2472 - val_loss: 0.2504\n",
            "Epoch 47/50\n",
            "\u001b[1m501/501\u001b[0m \u001b[32m━━━━━━━━━━━━━━━━━━━━\u001b[0m\u001b[37m\u001b[0m \u001b[1m1s\u001b[0m 2ms/step - loss: 0.2292 - val_loss: 0.2311\n",
            "Epoch 48/50\n",
            "\u001b[1m501/501\u001b[0m \u001b[32m━━━━━━━━━━━━━━━━━━━━\u001b[0m\u001b[37m\u001b[0m \u001b[1m2s\u001b[0m 3ms/step - loss: 0.2049 - val_loss: 0.2225\n",
            "Epoch 49/50\n",
            "\u001b[1m501/501\u001b[0m \u001b[32m━━━━━━━━━━━━━━━━━━━━\u001b[0m\u001b[37m\u001b[0m \u001b[1m3s\u001b[0m 4ms/step - loss: 0.1894 - val_loss: 0.2947\n",
            "Epoch 50/50\n",
            "\u001b[1m501/501\u001b[0m \u001b[32m━━━━━━━━━━━━━━━━━━━━\u001b[0m\u001b[37m\u001b[0m \u001b[1m2s\u001b[0m 2ms/step - loss: 0.1869 - val_loss: 0.2902\n"
          ]
        },
        {
          "output_type": "execute_result",
          "data": {
            "text/plain": [
              "<keras.src.callbacks.history.History at 0x7df669440190>"
            ]
          },
          "metadata": {},
          "execution_count": 5
        }
      ]
    },
    {
      "cell_type": "code",
      "source": [
        "\n",
        "val_predictions = NN_model.predict(X_val)\n",
        "\n",
        "from sklearn.metrics import mean_squared_error\n",
        "NN_val_mse = mean_squared_error(y_val, val_predictions)\n",
        "print(f\"Validation MSE (Neural Network): {NN_val_mse}\")\n",
        "\n",
        "\n"
      ],
      "metadata": {
        "colab": {
          "base_uri": "https://localhost:8080/"
        },
        "id": "OhBI6KuORCH1",
        "outputId": "1599f50e-78a5-42bf-984b-c4ce7d686655"
      },
      "execution_count": null,
      "outputs": [
        {
          "output_type": "stream",
          "name": "stdout",
          "text": [
            "\u001b[1m1001/1001\u001b[0m \u001b[32m━━━━━━━━━━━━━━━━━━━━\u001b[0m\u001b[37m\u001b[0m \u001b[1m2s\u001b[0m 2ms/step\n",
            "Validation MSE (Neural Network): 0.15668867214074036\n"
          ]
        }
      ]
    },
    {
      "cell_type": "code",
      "source": [
        "X_test = test_data[features]\n",
        "y_test = test_data['Health Score']\n",
        "\n",
        "test_predictions = NN_model.predict(X_test)\n",
        "NN_test_mse = mean_squared_error(y_test, test_predictions)\n",
        "print(f\"Test MSE: {NN_test_mse}\")\n"
      ],
      "metadata": {
        "colab": {
          "base_uri": "https://localhost:8080/"
        },
        "id": "ASEO8MuGTKZk",
        "outputId": "38a549c2-aed4-4354-f67f-6b40e8549e5f"
      },
      "execution_count": null,
      "outputs": [
        {
          "output_type": "stream",
          "name": "stdout",
          "text": [
            "\u001b[1m1251/1251\u001b[0m \u001b[32m━━━━━━━━━━━━━━━━━━━━\u001b[0m\u001b[37m\u001b[0m \u001b[1m2s\u001b[0m 1ms/step\n",
            "Test MSE: 0.1562583494700715\n"
          ]
        }
      ]
    },
    {
      "cell_type": "markdown",
      "source": [
        "## Random Forest"
      ],
      "metadata": {
        "id": "a9eBVQwWBl3-"
      }
    },
    {
      "cell_type": "code",
      "source": [
        "from sklearn.ensemble import RandomForestRegressor\n",
        "\n",
        "RF_model = RandomForestRegressor(n_estimators=100, random_state=42)\n",
        "\n",
        "X_train = train_data[features]\n",
        "y_train = train_data['Health Score']\n",
        "RF_model.fit(X_train, y_train)\n",
        "\n",
        "X_val = val_data[features]\n",
        "y_val = val_data['Health Score']\n",
        "val_predictions = RF_model.predict(X_val)\n",
        "\n",
        "\n",
        "from sklearn.metrics import mean_squared_error\n",
        "RF_val_mse = mean_squared_error(y_val, val_predictions)\n",
        "print(f\"Validation MSE: {RF_val_mse}\")\n"
      ],
      "metadata": {
        "id": "VxqEkLXJBWT3",
        "colab": {
          "base_uri": "https://localhost:8080/"
        },
        "outputId": "6328fa5c-e72a-495f-933e-2bb3ed6f4c0f"
      },
      "execution_count": null,
      "outputs": [
        {
          "output_type": "stream",
          "name": "stdout",
          "text": [
            "Validation MSE: 0.07796343033122129\n"
          ]
        }
      ]
    },
    {
      "cell_type": "code",
      "source": [
        "X_test = test_data[features]\n",
        "y_test = test_data['Health Score']\n",
        "\n",
        "test_predictions = RF_model.predict(X_test)\n",
        "RF_test_mse = mean_squared_error(y_test, test_predictions)\n",
        "print(f\"Test MSE: {RF_test_mse}\")\n"
      ],
      "metadata": {
        "colab": {
          "base_uri": "https://localhost:8080/"
        },
        "id": "FgU6ufO-H4N5",
        "outputId": "bee74644-1b84-4fa0-8c89-9f3582278f3a"
      },
      "execution_count": null,
      "outputs": [
        {
          "output_type": "stream",
          "name": "stdout",
          "text": [
            "Test MSE: 0.07698076667551843\n"
          ]
        }
      ]
    },
    {
      "cell_type": "markdown",
      "source": [
        "## XGBoost"
      ],
      "metadata": {
        "id": "X_sFRBCfGozv"
      }
    },
    {
      "cell_type": "code",
      "source": [
        "\n",
        "!pip install xgboost\n",
        "\n",
        "import xgboost as xgb\n",
        "from sklearn.metrics import mean_squared_error\n",
        "\n",
        "X_train = train_data[features]\n",
        "y_train = train_data['Health Score']\n",
        "X_val = val_data[features]\n",
        "y_val = val_data['Health Score']\n",
        "\n",
        "XGB_model = xgb.XGBRegressor(objective='reg:squarederror', n_estimators=100, random_state=42)\n",
        "\n",
        "\n",
        "XGB_model.fit(X_train, y_train)\n",
        "\n",
        "\n",
        "val_predictions_xgb = XGB_model.predict(X_val)\n",
        "XGB_val_mse = mean_squared_error(y_val, val_predictions_xgb)\n",
        "print(f\"Validation MSE (XGBoost): {XGB_val_mse}\")\n"
      ],
      "metadata": {
        "colab": {
          "base_uri": "https://localhost:8080/"
        },
        "id": "RigWEB1JGrJN",
        "outputId": "2af339ed-7146-474a-f75a-593674dd0d05"
      },
      "execution_count": null,
      "outputs": [
        {
          "output_type": "stream",
          "name": "stdout",
          "text": [
            "Requirement already satisfied: xgboost in /usr/local/lib/python3.10/dist-packages (2.1.1)\n",
            "Requirement already satisfied: numpy in /usr/local/lib/python3.10/dist-packages (from xgboost) (1.26.4)\n",
            "Requirement already satisfied: nvidia-nccl-cu12 in /usr/local/lib/python3.10/dist-packages (from xgboost) (2.23.4)\n",
            "Requirement already satisfied: scipy in /usr/local/lib/python3.10/dist-packages (from xgboost) (1.13.1)\n",
            "Validation MSE (XGBoost): 0.08018179770000097\n"
          ]
        }
      ]
    },
    {
      "cell_type": "code",
      "source": [
        "X_test = test_data[features]\n",
        "y_test = test_data['Health Score']\n",
        "test_predictions_xgb = XGB_model.predict(X_test)\n",
        "XGB_test_mse = mean_squared_error(y_test, test_predictions_xgb)\n",
        "print(f\"Test MSE (XGBoost): {XGB_test_mse}\")"
      ],
      "metadata": {
        "colab": {
          "base_uri": "https://localhost:8080/"
        },
        "id": "BkPtEGHKH_aA",
        "outputId": "835c481b-d515-48cb-ce98-290cd208cb87"
      },
      "execution_count": null,
      "outputs": [
        {
          "output_type": "stream",
          "name": "stdout",
          "text": [
            "Test MSE (XGBoost): 0.07770146019492925\n"
          ]
        }
      ]
    },
    {
      "cell_type": "markdown",
      "source": [
        "## Comparision Plot of all Algorithms"
      ],
      "metadata": {
        "id": "5Q1Hbr18SSAv"
      }
    },
    {
      "cell_type": "code",
      "source": [
        "models = ['Neural Network', 'Random Forest', 'XGBoost']\n",
        "val_mse = [NN_val_mse, RF_val_mse, XGB_val_mse]\n",
        "test_mse = [NN_test_mse, RF_test_mse, XGB_test_mse]\n",
        "\n",
        "plt.figure(figsize=(10, 6))\n",
        "plt.bar(models, val_mse, width=0.4, label='Validation MSE', align='center')\n",
        "plt.bar(models, test_mse, width=0.4, label='Test MSE', align='edge')\n",
        "\n",
        "plt.xlabel('Model')\n",
        "plt.ylabel('MSE')\n",
        "plt.title('Comparison of Validation and Test MSE for Different Models')\n",
        "plt.legend()\n",
        "plt.grid(True)\n",
        "\n",
        "plt.show()"
      ],
      "metadata": {
        "id": "VmUPTgNYSesx",
        "colab": {
          "base_uri": "https://localhost:8080/",
          "height": 564
        },
        "outputId": "a63c988c-f911-4ee2-f2dd-e78b602418ca"
      },
      "execution_count": null,
      "outputs": [
        {
          "output_type": "display_data",
          "data": {
            "text/plain": [
              "<Figure size 1000x600 with 1 Axes>"
            ],
            "image/png": "[encoded data removed]"
          },
          "metadata": {}
        }
      ]
    },
    {
      "cell_type": "markdown",
      "source": [
        "## MODEL TESTING ON USER DATA"
      ],
      "metadata": {
        "id": "JxrfkzbjaQ1x"
      }
    },
    {
      "cell_type": "code",
      "source": [
        "new_user_data = {\n",
        "    'Heart Rate': [89],\n",
        "    'Respiratory Rate': [18],\n",
        "    'Body Temperature': [37],\n",
        "    'Oxygen Saturation': [97],\n",
        "    'Systolic Blood Pressure': [127],\n",
        "    'Diastolic Blood Pressure': [75],\n",
        "    'Age': [20],\n",
        "    'Weight (kg)': [80],\n",
        "    'Height (m)': [1.84]\n",
        "}\n",
        "\n",
        "new_user_df = pd.DataFrame(new_user_data)\n",
        "\n",
        "new_user_scaled = scaler.transform(new_user_df[features])\n",
        "\n",
        "new_user_health_score = RF_model.predict(new_user_scaled)\n",
        "print(f\"Predicted Health Score for the new user: {new_user_health_score[0]}\")\n"
      ],
      "metadata": {
        "colab": {
          "base_uri": "https://localhost:8080/"
        },
        "id": "9x5aUJV9axk4",
        "outputId": "d6b5590b-b907-4e05-a909-4697210433ce"
      },
      "execution_count": null,
      "outputs": [
        {
          "output_type": "stream",
          "name": "stdout",
          "text": [
            "Predicted Health Score for the new user: 98.43678288549704\n"
          ]
        },
        {
          "output_type": "stream",
          "name": "stderr",
          "text": [
            "/usr/local/lib/python3.10/dist-packages/sklearn/base.py:493: UserWarning: X does not have valid feature names, but RandomForestRegressor was fitted with feature names\n",
            "  warnings.warn(\n"
          ]
        }
      ]
    },
    {
      "cell_type": "markdown",
      "source": [],
      "metadata": {
        "id": "jatWUHAXIwOn"
      }
    },
    {
      "cell_type": "code",
      "source": [],
      "metadata": {
        "id": "XBfoVPdKNZBQ"
      },
      "execution_count": null,
      "outputs": []
    }
  ]
}